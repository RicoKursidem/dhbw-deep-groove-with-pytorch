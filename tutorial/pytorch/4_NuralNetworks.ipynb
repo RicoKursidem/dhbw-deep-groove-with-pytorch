{
 "cells": [
  {
   "cell_type": "markdown",
   "metadata": {},
   "source": [
    "# PyTorch\n",
    "\n",
    "## MeuralNetworks\n",
    "\n",
    "### Imports"
   ]
  },
  {
   "cell_type": "code",
   "execution_count": 1,
   "metadata": {},
   "outputs": [
    {
     "ename": "ModuleNotFoundError",
     "evalue": "No module named 'torch'",
     "output_type": "error",
     "traceback": [
      "\u001b[1;31m---------------------------------------------------------------------------\u001b[0m",
      "\u001b[1;31mModuleNotFoundError\u001b[0m                       Traceback (most recent call last)",
      "Cell \u001b[1;32mIn [1], line 2\u001b[0m\n\u001b[0;32m      1\u001b[0m \u001b[39mimport\u001b[39;00m \u001b[39mos\u001b[39;00m\n\u001b[1;32m----> 2\u001b[0m \u001b[39mimport\u001b[39;00m \u001b[39mtorch\u001b[39;00m\n\u001b[0;32m      3\u001b[0m \u001b[39mfrom\u001b[39;00m \u001b[39mtorch\u001b[39;00m \u001b[39mimport\u001b[39;00m nn\n\u001b[0;32m      4\u001b[0m \u001b[39mfrom\u001b[39;00m \u001b[39mtorch\u001b[39;00m\u001b[39m.\u001b[39;00m\u001b[39mutils\u001b[39;00m\u001b[39m.\u001b[39;00m\u001b[39mdata\u001b[39;00m \u001b[39mimport\u001b[39;00m DataLoader\n",
      "\u001b[1;31mModuleNotFoundError\u001b[0m: No module named 'torch'"
     ]
    }
   ],
   "source": [
    "import os\n",
    "import torch\n",
    "from torch import nn\n",
    "from torch.utils.data import DataLoader\n",
    "from torchvision import datasets, transforms"
   ]
  },
  {
   "cell_type": "markdown",
   "metadata": {},
   "source": [
    "### Get Device\n",
    "\n",
    "look if there is a Hardware piece that is faster than cpu, if there is no ``cuda`` device, continue with ``cpu``"
   ]
  },
  {
   "cell_type": "code",
   "execution_count": null,
   "metadata": {},
   "outputs": [
    {
     "name": "stdout",
     "output_type": "stream",
     "text": [
      "Using cuda device\n"
     ]
    }
   ],
   "source": [
    "device = \"cuda\" if torch.cuda.is_available() else \"cpu\"\n",
    "print(f\"Using {device} device\")"
   ]
  },
  {
   "cell_type": "markdown",
   "metadata": {},
   "source": [
    "### Define Class\n",
    "\n",
    "a class that implements ``nn.Module``\n",
    "\n",
    "in the constructor we define the Layers"
   ]
  },
  {
   "cell_type": "code",
   "execution_count": null,
   "metadata": {},
   "outputs": [],
   "source": [
    "class NeuralNetwork(nn.Module):\n",
    "    def __init__(self):\n",
    "        super(NeuralNetwork, self).__init__()\n",
    "        self.flatten = nn.Flatten()\n",
    "        self.linear_relu_stack = nn.Sequential(\n",
    "            nn.Linear(28*28, 512),\n",
    "            nn.ReLU(),\n",
    "            nn.Linear(512, 512),\n",
    "            nn.ReLU(),\n",
    "            nn.Linear(512, 10),\n",
    "        )\n",
    "\n",
    "    def forward(self, x):\n",
    "        x = self.flatten(x)\n",
    "        logits = self.linear_relu_stack(x)\n",
    "        return logits"
   ]
  },
  {
   "cell_type": "markdown",
   "metadata": {},
   "source": [
    "generating a Neural Network on the ``device``"
   ]
  },
  {
   "cell_type": "code",
   "execution_count": null,
   "metadata": {},
   "outputs": [
    {
     "name": "stdout",
     "output_type": "stream",
     "text": [
      "NeuralNetwork(\n",
      "  (flatten): Flatten(start_dim=1, end_dim=-1)\n",
      "  (linear_relu_stack): Sequential(\n",
      "    (0): Linear(in_features=784, out_features=512, bias=True)\n",
      "    (1): ReLU()\n",
      "    (2): Linear(in_features=512, out_features=512, bias=True)\n",
      "    (3): ReLU()\n",
      "    (4): Linear(in_features=512, out_features=10, bias=True)\n",
      "  )\n",
      ")\n"
     ]
    }
   ],
   "source": [
    "model = NeuralNetwork().to(device)\n",
    "print(model)"
   ]
  },
  {
   "cell_type": "markdown",
   "metadata": {},
   "source": [
    "Throwing Data into the Model"
   ]
  },
  {
   "cell_type": "code",
   "execution_count": null,
   "metadata": {},
   "outputs": [
    {
     "name": "stdout",
     "output_type": "stream",
     "text": [
      "Predicted class: tensor([3], device='cuda:0')\n"
     ]
    }
   ],
   "source": [
    "X = torch.rand(1, 28, 28, device=device)\n",
    "logits = model(X)\n",
    "pred_probab = nn.Softmax(dim=1)(logits)\n",
    "y_pred = pred_probab.argmax(1)\n",
    "print(f\"Predicted class: {y_pred}\")"
   ]
  },
  {
   "cell_type": "markdown",
   "metadata": {},
   "source": [
    "### Layers\n",
    "\n",
    "#### Visualisation Data"
   ]
  },
  {
   "cell_type": "markdown",
   "metadata": {},
   "source": [
    "```torch.rand(number of Tensors,height,width)```"
   ]
  },
  {
   "cell_type": "code",
   "execution_count": null,
   "metadata": {},
   "outputs": [
    {
     "name": "stdout",
     "output_type": "stream",
     "text": [
      "tensor([[[0.8689, 0.2922, 0.5651,  ..., 0.6618, 0.2001, 0.9198],\n",
      "         [0.1279, 0.7180, 0.9355,  ..., 0.0058, 0.2984, 0.2979],\n",
      "         [0.6303, 0.4192, 0.8811,  ..., 0.5976, 0.5355, 0.5172],\n",
      "         ...,\n",
      "         [0.4356, 0.9552, 0.5440,  ..., 0.6494, 0.7735, 0.2188],\n",
      "         [0.2217, 0.1371, 0.3976,  ..., 0.2739, 0.9185, 0.7118],\n",
      "         [0.1773, 0.0068, 0.3929,  ..., 0.3515, 0.2773, 0.8898]],\n",
      "\n",
      "        [[0.1518, 0.0647, 0.0260,  ..., 0.7522, 0.2692, 0.3349],\n",
      "         [0.9547, 0.9295, 0.0349,  ..., 0.6013, 0.3013, 0.5257],\n",
      "         [0.6707, 0.1005, 0.5270,  ..., 0.3189, 0.7705, 0.8066],\n",
      "         ...,\n",
      "         [0.4780, 0.3806, 0.1693,  ..., 0.3789, 0.7216, 0.9762],\n",
      "         [0.5432, 0.6179, 0.3109,  ..., 0.7107, 0.1210, 0.3499],\n",
      "         [0.4951, 0.3866, 0.5060,  ..., 0.5683, 0.7056, 0.6163]],\n",
      "\n",
      "        [[0.5409, 0.9445, 0.2620,  ..., 0.2800, 0.1923, 0.4235],\n",
      "         [0.4468, 0.7430, 0.0717,  ..., 0.7352, 0.3331, 0.9583],\n",
      "         [0.3564, 0.7579, 0.7932,  ..., 0.0083, 0.5118, 0.1403],\n",
      "         ...,\n",
      "         [0.1822, 0.8788, 0.9955,  ..., 0.1206, 0.0693, 0.7969],\n",
      "         [0.1679, 0.9907, 0.8554,  ..., 0.7780, 0.5285, 0.1406],\n",
      "         [0.5570, 0.2071, 0.4150,  ..., 0.8874, 0.0678, 0.1546]]])\n"
     ]
    }
   ],
   "source": [
    "input_image = torch.rand(3,28,28)\n",
    "print(input_image)"
   ]
  },
  {
   "cell_type": "code",
   "execution_count": null,
   "metadata": {},
   "outputs": [
    {
     "data": {
      "text/plain": [
       "torch.Size([3, 28, 28])"
      ]
     },
     "execution_count": 57,
     "metadata": {},
     "output_type": "execute_result"
    }
   ],
   "source": [
    "input_image.size()"
   ]
  },
  {
   "cell_type": "markdown",
   "metadata": {},
   "source": [
    "#### nn.Flatten\n",
    "\n",
    "turns 2D data to 1D data\n",
    "\n",
    "``[1, 1], [2, 2]  -> [1, 1, 2, 2]``"
   ]
  },
  {
   "cell_type": "code",
   "execution_count": null,
   "metadata": {},
   "outputs": [
    {
     "name": "stdout",
     "output_type": "stream",
     "text": [
      "torch.Size([3, 784])\n"
     ]
    }
   ],
   "source": [
    "flatten = nn.Flatten()\n",
    "flat_image = flatten(input_image)\n",
    "print(flat_image.size())"
   ]
  },
  {
   "cell_type": "markdown",
   "metadata": {},
   "source": [
    "#### nn.Linear\n",
    "\n",
    "linear transformation on the input using its stored weights and biases"
   ]
  },
  {
   "cell_type": "code",
   "execution_count": null,
   "metadata": {},
   "outputs": [
    {
     "name": "stdout",
     "output_type": "stream",
     "text": [
      "torch.Size([3, 20])\n"
     ]
    }
   ],
   "source": [
    "layer1 = nn.Linear(in_features=28*28, out_features=20)\n",
    "hidden1 = layer1(flat_image)\n",
    "print(hidden1.size())"
   ]
  },
  {
   "cell_type": "markdown",
   "metadata": {},
   "source": [
    "#### nn.ReLU\n",
    "\n",
    "non-linear activations. These do the complex maping inside the NN. There are other methodes than ReLU to do these actions"
   ]
  },
  {
   "cell_type": "code",
   "execution_count": null,
   "metadata": {},
   "outputs": [
    {
     "name": "stdout",
     "output_type": "stream",
     "text": [
      "Before ReLU: tensor([[-0.2590, -0.1492,  0.1040,  0.4091, -0.2248,  0.1214,  0.8750, -0.7570,\n",
      "          0.2708,  0.2031,  0.5730,  0.5035, -0.0379,  0.5718, -0.0445,  0.0619,\n",
      "         -0.3146, -0.0050,  0.0068,  0.0600],\n",
      "        [-0.2092,  0.2261, -0.0668,  0.4373, -0.1037,  0.1276,  0.3900, -0.7503,\n",
      "          0.4985,  0.0991,  0.6274, -0.0433, -0.0565,  0.1606,  0.1006,  0.0575,\n",
      "         -0.0439, -0.4375, -0.1561, -0.0273],\n",
      "        [-0.1348,  0.1268, -0.0680, -0.0829, -0.1884, -0.1336,  0.9184, -0.3688,\n",
      "          0.0367,  0.2492,  0.4073,  0.1169,  0.0524,  0.5442, -0.1523,  0.1118,\n",
      "          0.2310,  0.1281,  0.0049,  0.0926]], grad_fn=<AddmmBackward0>)\n",
      "\n",
      "\n",
      "After ReLU: torch.Size([3, 20])\n"
     ]
    }
   ],
   "source": [
    "print(f\"Before ReLU: {hidden1}\\n\\n\")\n",
    "hidden1 = nn.ReLU()(hidden1)\n",
    "print(f\"After ReLU: {hidden1.size()}\")"
   ]
  },
  {
   "cell_type": "markdown",
   "metadata": {},
   "source": [
    "#### nn.Sequential\n",
    "\n",
    "a collection of Layertypes\n",
    "\n",
    "<img title=\"nn.Sequential\" alt=\"Picture\" src=\"res/seq.PNG\" height=\"300\">"
   ]
  },
  {
   "cell_type": "code",
   "execution_count": null,
   "metadata": {},
   "outputs": [],
   "source": [
    "seq_modules = nn.Sequential(\n",
    "    flatten,\n",
    "    layer1,\n",
    "    nn.ReLU(),\n",
    "    nn.Linear(20, 10)\n",
    ")\n",
    "input_image = torch.rand(3,28,28)\n",
    "logits = seq_modules(input_image)"
   ]
  },
  {
   "cell_type": "markdown",
   "metadata": {},
   "source": [
    "#### nn.Softmax\n",
    "\n",
    "Last Layor. Returns an evaluation of Likelyhood of every Output in an Intervall [0,1]."
   ]
  },
  {
   "cell_type": "code",
   "execution_count": null,
   "metadata": {},
   "outputs": [],
   "source": [
    "softmax = nn.Softmax(dim=1)\n",
    "pred_probab = softmax(logits)"
   ]
  },
  {
   "cell_type": "markdown",
   "metadata": {},
   "source": [
    "#### Visualization\n",
    "\n",
    "<img title=\"Layers drawn\" alt=\"Picture\" src=\"res/layers.PNG\" height=\"300\">"
   ]
  },
  {
   "cell_type": "markdown",
   "metadata": {},
   "source": [
    "### Model Parameters\n",
    "\n",
    "every layer has a parameter or a bias\n",
    "\n",
    "``parameters()`` or ``named_parameters()``"
   ]
  },
  {
   "cell_type": "code",
   "execution_count": null,
   "metadata": {},
   "outputs": [
    {
     "name": "stdout",
     "output_type": "stream",
     "text": [
      "Model structure: NeuralNetwork(\n",
      "  (flatten): Flatten(start_dim=1, end_dim=-1)\n",
      "  (linear_relu_stack): Sequential(\n",
      "    (0): Linear(in_features=784, out_features=512, bias=True)\n",
      "    (1): ReLU()\n",
      "    (2): Linear(in_features=512, out_features=512, bias=True)\n",
      "    (3): ReLU()\n",
      "    (4): Linear(in_features=512, out_features=10, bias=True)\n",
      "  )\n",
      ")\n",
      "\n",
      "\n",
      "Layer: linear_relu_stack.0.weight | Size: torch.Size([512, 784]) | Values : tensor([[ 0.0252, -0.0097, -0.0082,  ..., -0.0274,  0.0166, -0.0005],\n",
      "        [-0.0039,  0.0238,  0.0327,  ..., -0.0348,  0.0271, -0.0046]],\n",
      "       device='cuda:0', grad_fn=<SliceBackward0>) \n",
      "\n",
      "Layer: linear_relu_stack.0.bias | Size: torch.Size([512]) | Values : tensor([-0.0044,  0.0103], device='cuda:0', grad_fn=<SliceBackward0>) \n",
      "\n",
      "Layer: linear_relu_stack.2.weight | Size: torch.Size([512, 512]) | Values : tensor([[ 0.0136, -0.0330, -0.0324,  ..., -0.0272, -0.0408, -0.0296],\n",
      "        [ 0.0357, -0.0342, -0.0177,  ..., -0.0165, -0.0377,  0.0380]],\n",
      "       device='cuda:0', grad_fn=<SliceBackward0>) \n",
      "\n",
      "Layer: linear_relu_stack.2.bias | Size: torch.Size([512]) | Values : tensor([0.0412, 0.0151], device='cuda:0', grad_fn=<SliceBackward0>) \n",
      "\n",
      "Layer: linear_relu_stack.4.weight | Size: torch.Size([10, 512]) | Values : tensor([[-0.0332,  0.0100, -0.0055,  ...,  0.0400,  0.0088, -0.0431],\n",
      "        [-0.0271, -0.0312,  0.0413,  ...,  0.0133,  0.0266,  0.0053]],\n",
      "       device='cuda:0', grad_fn=<SliceBackward0>) \n",
      "\n",
      "Layer: linear_relu_stack.4.bias | Size: torch.Size([10]) | Values : tensor([ 0.0378, -0.0158], device='cuda:0', grad_fn=<SliceBackward0>) \n",
      "\n"
     ]
    }
   ],
   "source": [
    "print(f\"Model structure: {model}\\n\\n\")\n",
    "\n",
    "for name, param in model.named_parameters():\n",
    "    print(f\"Layer: {name} | Size: {param.size()} | Values : {param[:2]} \\n\")"
   ]
  }
 ],
 "metadata": {
  "kernelspec": {
   "display_name": "Python 3",
   "language": "python",
   "name": "python3"
  },
  "language_info": {
   "codemirror_mode": {
    "name": "ipython",
    "version": 3
   },
   "file_extension": ".py",
   "mimetype": "text/x-python",
   "name": "python",
   "nbconvert_exporter": "python",
   "pygments_lexer": "ipython3",
   "version": "3.10.5 (tags/v3.10.5:f377153, Jun  6 2022, 16:14:13) [MSC v.1929 64 bit (AMD64)]"
  },
  "orig_nbformat": 4,
  "vscode": {
   "interpreter": {
    "hash": "d0b1cd08f25460b8eca4806833a13a3bdd20cef72802d0ad364ee4ea93f06117"
   }
  }
 },
 "nbformat": 4,
 "nbformat_minor": 2
}
