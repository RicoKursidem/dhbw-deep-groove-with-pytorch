{
 "cells": [
  {
   "cell_type": "markdown",
   "metadata": {},
   "source": [
    "# PyTorch\n",
    "\n",
    "## MeuralNetworks\n",
    "\n",
    "### Imports"
   ]
  },
  {
   "cell_type": "code",
   "execution_count": 38,
   "metadata": {},
   "outputs": [],
   "source": [
    "import os\n",
    "import torch\n",
    "from torch import nn\n",
    "from torch.utils.data import DataLoader\n",
    "from torchvision import datasets, transforms"
   ]
  },
  {
   "cell_type": "markdown",
   "metadata": {},
   "source": [
    "### Get Device\n",
    "\n",
    "look if there is a Hardware piece that is faster than cpu, if there is no ``cuda`` device, continue with ``cpu``"
   ]
  },
  {
   "cell_type": "code",
   "execution_count": 39,
   "metadata": {},
   "outputs": [
    {
     "name": "stdout",
     "output_type": "stream",
     "text": [
      "Using cuda device\n"
     ]
    }
   ],
   "source": [
    "device = \"cuda\" if torch.cuda.is_available() else \"cpu\"\n",
    "print(f\"Using {device} device\")"
   ]
  },
  {
   "cell_type": "markdown",
   "metadata": {},
   "source": [
    "### Define Class\n",
    "\n",
    "a class that implements ``nn.Module``\n",
    "\n",
    "in the constructor we define the Layers"
   ]
  },
  {
   "cell_type": "code",
   "execution_count": 40,
   "metadata": {},
   "outputs": [],
   "source": [
    "class NeuralNetwork(nn.Module):\n",
    "    def __init__(self):\n",
    "        super(NeuralNetwork, self).__init__()\n",
    "        self.flatten = nn.Flatten()\n",
    "        self.linear_relu_stack = nn.Sequential(\n",
    "            nn.Linear(28*28, 512),\n",
    "            nn.ReLU(),\n",
    "            nn.Linear(512, 512),\n",
    "            nn.ReLU(),\n",
    "            nn.Linear(512, 10),\n",
    "        )\n",
    "\n",
    "    def forward(self, x):\n",
    "        x = self.flatten(x)\n",
    "        logits = self.linear_relu_stack(x)\n",
    "        return logits"
   ]
  },
  {
   "cell_type": "markdown",
   "metadata": {},
   "source": [
    "generating a Neural Network on the ``device``"
   ]
  },
  {
   "cell_type": "code",
   "execution_count": 41,
   "metadata": {},
   "outputs": [
    {
     "name": "stdout",
     "output_type": "stream",
     "text": [
      "NeuralNetwork(\n",
      "  (flatten): Flatten(start_dim=1, end_dim=-1)\n",
      "  (linear_relu_stack): Sequential(\n",
      "    (0): Linear(in_features=784, out_features=512, bias=True)\n",
      "    (1): ReLU()\n",
      "    (2): Linear(in_features=512, out_features=512, bias=True)\n",
      "    (3): ReLU()\n",
      "    (4): Linear(in_features=512, out_features=10, bias=True)\n",
      "  )\n",
      ")\n"
     ]
    }
   ],
   "source": [
    "model = NeuralNetwork().to(device)\n",
    "print(model)"
   ]
  },
  {
   "cell_type": "markdown",
   "metadata": {},
   "source": [
    "Throwing Data into the Model"
   ]
  },
  {
   "cell_type": "code",
   "execution_count": 42,
   "metadata": {},
   "outputs": [
    {
     "name": "stdout",
     "output_type": "stream",
     "text": [
      "Predicted class: tensor([1], device='cuda:0')\n"
     ]
    }
   ],
   "source": [
    "X = torch.rand(1, 28, 28, device=device)\n",
    "logits = model(X)\n",
    "pred_probab = nn.Softmax(dim=1)(logits)\n",
    "y_pred = pred_probab.argmax(1)\n",
    "print(f\"Predicted class: {y_pred}\")"
   ]
  },
  {
   "cell_type": "markdown",
   "metadata": {},
   "source": [
    "### Layers\n",
    "\n",
    "#### Visualisation Data"
   ]
  },
  {
   "cell_type": "markdown",
   "metadata": {},
   "source": [
    "```torch.rand(number of Tensors,height,width)```"
   ]
  },
  {
   "cell_type": "code",
   "execution_count": 43,
   "metadata": {},
   "outputs": [
    {
     "name": "stdout",
     "output_type": "stream",
     "text": [
      "tensor([[[0.7736, 0.6059, 0.2049,  ..., 0.1303, 0.6702, 0.6640],\n",
      "         [0.2022, 0.6409, 0.3240,  ..., 0.4313, 0.9897, 0.4752],\n",
      "         [0.1571, 0.0589, 0.4267,  ..., 0.7221, 0.1706, 0.0165],\n",
      "         ...,\n",
      "         [0.0677, 0.8477, 0.8631,  ..., 0.5944, 0.7018, 0.9786],\n",
      "         [0.3240, 0.7030, 0.8383,  ..., 0.8467, 0.4085, 0.3515],\n",
      "         [0.3371, 0.7567, 0.6750,  ..., 0.6946, 0.6174, 0.6412]],\n",
      "\n",
      "        [[0.0459, 0.0632, 0.9060,  ..., 0.2900, 0.0061, 0.1192],\n",
      "         [0.4834, 0.4391, 0.8833,  ..., 0.0897, 0.1878, 0.8509],\n",
      "         [0.7655, 0.4648, 0.8997,  ..., 0.3324, 0.4053, 0.4675],\n",
      "         ...,\n",
      "         [0.1109, 0.8367, 0.6119,  ..., 0.5624, 0.7419, 0.7576],\n",
      "         [0.5693, 0.0913, 0.4346,  ..., 0.5071, 0.1803, 0.5837],\n",
      "         [0.9799, 0.0607, 0.0637,  ..., 0.9835, 0.8182, 0.7734]],\n",
      "\n",
      "        [[0.8419, 0.5577, 0.4350,  ..., 0.2208, 0.4074, 0.7828],\n",
      "         [0.6662, 0.4550, 0.0205,  ..., 0.6755, 0.2902, 0.5380],\n",
      "         [0.2710, 0.5375, 0.9313,  ..., 0.9471, 0.2428, 0.8640],\n",
      "         ...,\n",
      "         [0.6895, 0.4982, 0.9721,  ..., 0.4817, 0.0313, 0.3247],\n",
      "         [0.3928, 0.9547, 0.9279,  ..., 0.5079, 0.9106, 0.2959],\n",
      "         [0.9552, 0.1094, 0.5757,  ..., 0.7810, 0.6327, 0.7299]]])\n"
     ]
    }
   ],
   "source": [
    "input_image = torch.rand(3,28,28)\n",
    "print(input_image)"
   ]
  },
  {
   "cell_type": "code",
   "execution_count": 44,
   "metadata": {},
   "outputs": [
    {
     "data": {
      "text/plain": [
       "torch.Size([3, 28, 28])"
      ]
     },
     "execution_count": 44,
     "metadata": {},
     "output_type": "execute_result"
    }
   ],
   "source": [
    "input_image.size()"
   ]
  },
  {
   "cell_type": "markdown",
   "metadata": {},
   "source": [
    "#### nn.Flatten\n",
    "\n",
    "turns 2D data to 1D data\n",
    "\n",
    "``[1, 1], [2, 2]  -> [1, 1, 2, 2]``"
   ]
  },
  {
   "cell_type": "code",
   "execution_count": 45,
   "metadata": {},
   "outputs": [
    {
     "name": "stdout",
     "output_type": "stream",
     "text": [
      "torch.Size([3, 784])\n"
     ]
    }
   ],
   "source": [
    "flatten = nn.Flatten()\n",
    "flat_image = flatten(input_image)\n",
    "print(flat_image.size())"
   ]
  },
  {
   "cell_type": "markdown",
   "metadata": {},
   "source": [
    "#### nn.Linear\n",
    "\n",
    "linear transformation on the input using its stored weights and biases"
   ]
  },
  {
   "cell_type": "code",
   "execution_count": 46,
   "metadata": {},
   "outputs": [
    {
     "name": "stdout",
     "output_type": "stream",
     "text": [
      "torch.Size([3, 20])\n"
     ]
    }
   ],
   "source": [
    "layer1 = nn.Linear(in_features=28*28, out_features=20)\n",
    "hidden1 = layer1(flat_image)\n",
    "print(hidden1.size())"
   ]
  },
  {
   "cell_type": "markdown",
   "metadata": {},
   "source": [
    "#### nn.ReLU\n",
    "\n",
    "non-linear activations. These do the complex maping inside the NN. There are other methodes than ReLU to do these actions"
   ]
  },
  {
   "cell_type": "code",
   "execution_count": 50,
   "metadata": {},
   "outputs": [
    {
     "name": "stdout",
     "output_type": "stream",
     "text": [
      "Before ReLU: tensor([[0.3956, 0.4323, 0.0000, 0.0000, 0.1807, 0.0000, 0.0000, 0.0000, 0.0267,\n",
      "         0.0581, 0.0000, 0.1046, 0.0000, 0.0000, 0.1178, 0.1602, 0.0487, 0.3046,\n",
      "         0.0000, 0.3459],\n",
      "        [0.0000, 0.0562, 0.0000, 0.0000, 0.0000, 0.0000, 0.0000, 0.0000, 0.3084,\n",
      "         0.0660, 0.0000, 0.3950, 0.0000, 0.0000, 0.4076, 0.0000, 0.0000, 0.4734,\n",
      "         0.0000, 0.3816],\n",
      "        [0.3046, 0.4821, 0.0926, 0.0000, 0.0000, 0.0000, 0.1869, 0.0000, 0.3388,\n",
      "         0.0000, 0.0139, 0.0922, 0.0000, 0.0729, 0.1813, 0.0000, 0.0948, 0.1120,\n",
      "         0.0642, 0.3662]], grad_fn=<ReluBackward0>)\n",
      "\n",
      "\n",
      "After ReLU: torch.Size([3, 20])\n"
     ]
    }
   ],
   "source": [
    "print(f\"Before ReLU: {hidden1}\\n\\n\")\n",
    "hidden1 = nn.ReLU()(hidden1)\n",
    "print(f\"After ReLU: {hidden1.size()}\")"
   ]
  },
  {
   "cell_type": "markdown",
   "metadata": {},
   "source": [
    "#### nn.Sequential\n",
    "\n",
    "a collection of Layertypes\n",
    "\n",
    "<img title=\"nn.Sequential\" alt=\"Picture\" src=\"res/seq.PNG\" height=\"300\">"
   ]
  },
  {
   "cell_type": "code",
   "execution_count": 48,
   "metadata": {},
   "outputs": [],
   "source": [
    "seq_modules = nn.Sequential(\n",
    "    flatten,\n",
    "    layer1,\n",
    "    nn.ReLU(),\n",
    "    nn.Linear(20, 10)\n",
    ")\n",
    "input_image = torch.rand(3,28,28)\n",
    "logits = seq_modules(input_image)"
   ]
  },
  {
   "cell_type": "markdown",
   "metadata": {},
   "source": [
    "#### nn.Softmax\n",
    "\n",
    "Last Layor. Returns an evaluation of Likelyhood of every Output in an Intervall [0,1]."
   ]
  },
  {
   "cell_type": "code",
   "execution_count": 49,
   "metadata": {},
   "outputs": [],
   "source": [
    "softmax = nn.Softmax(dim=1)\n",
    "pred_probab = softmax(logits)"
   ]
  },
  {
   "cell_type": "markdown",
   "metadata": {},
   "source": [
    "#### Visualization\n",
    "\n",
    "<img title=\"Layers drawn\" alt=\"Picture\" src=\"res/layers.PNG\">"
   ]
  },
  {
   "cell_type": "markdown",
   "metadata": {},
   "source": [
    "### Model Parameters\n",
    "\n",
    "every layer has a parameter or a bias\n",
    "\n",
    "````parameters()```` or ````named_parameters()````"
   ]
  }
 ],
 "metadata": {
  "kernelspec": {
   "display_name": "Python 3.10.8 64-bit",
   "language": "python",
   "name": "python3"
  },
  "language_info": {
   "codemirror_mode": {
    "name": "ipython",
    "version": 3
   },
   "file_extension": ".py",
   "mimetype": "text/x-python",
   "name": "python",
   "nbconvert_exporter": "python",
   "pygments_lexer": "ipython3",
   "version": "3.10.8"
  },
  "orig_nbformat": 4,
  "vscode": {
   "interpreter": {
    "hash": "aee646b5f0c348debdea9b36e04014d3b501ba8b83876c774c538990ffd76616"
   }
  }
 },
 "nbformat": 4,
 "nbformat_minor": 2
}
