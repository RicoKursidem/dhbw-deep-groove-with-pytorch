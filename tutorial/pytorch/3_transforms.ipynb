{
 "cells": [
  {
   "cell_type": "markdown",
   "metadata": {},
   "source": [
    "# PyTorch\n",
    "\n",
    "## Transforms\n",
    "\n",
    "is used to manipulate the Data.\n",
    "\n",
    "Every Dataset has two parameters to transform the data\n",
    "\n",
    "-  ```transform``` to transform the Data\n",
    "-  ```target_transform``` to Transform the Labels\n",
    "\n",
    "Here the PIL Images get Transformed to Tensor and the Labels instead of individual Integer to one Tensor using ```Lambda```\n",
    "\n",
    "```ToTensor()``` takes a PIL Image or np.array and returns a Tensor with Values in range ```[0,1]```"
   ]
  },
  {
   "cell_type": "code",
   "execution_count": 3,
   "metadata": {},
   "outputs": [],
   "source": [
    "import torch\n",
    "from torchvision import datasets\n",
    "from torchvision.transforms import ToTensor, Lambda\n",
    "\n",
    "ds = datasets.FashionMNIST(\n",
    "    root=\"data\",\n",
    "    train=True,\n",
    "    download=True,\n",
    "    transform=ToTensor(),\n",
    "    target_transform=Lambda(lambda y: torch.zeros(10, dtype=torch.float).scatter_(0, torch.tensor(y), value=1))\n",
    ")"
   ]
  },
  {
   "cell_type": "markdown",
   "metadata": {},
   "source": [
    "%TODO: Need to look up Lambda functions"
   ]
  }
 ],
 "metadata": {
  "kernelspec": {
   "display_name": "Python 3.10.8 64-bit",
   "language": "python",
   "name": "python3"
  },
  "language_info": {
   "codemirror_mode": {
    "name": "ipython",
    "version": 3
   },
   "file_extension": ".py",
   "mimetype": "text/x-python",
   "name": "python",
   "nbconvert_exporter": "python",
   "pygments_lexer": "ipython3",
   "version": "3.10.8"
  },
  "orig_nbformat": 4,
  "vscode": {
   "interpreter": {
    "hash": "aee646b5f0c348debdea9b36e04014d3b501ba8b83876c774c538990ffd76616"
   }
  }
 },
 "nbformat": 4,
 "nbformat_minor": 2
}
